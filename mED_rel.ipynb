{
 "cells": [
  {
   "cell_type": "code",
   "execution_count": null,
   "metadata": {},
   "outputs": [],
   "source": [
    "with open('mesh_rels_dict.dat', 'rb') as f:    \n",
    "    mesh_rels_dict = pickle.load(f)    # mesh_rels_dict: key: pmid, value: list of combinations of mesh terms for each paper\n",
    "    f.close()\n",
    "\n",
    "with open('cits_dict.dat', 'rb') as f2:\n",
    "    cits_dict = pickle.load(f2)   # cits_dict: key: pmid, value: list of citing pmids for each paper\n",
    "    f2.close() \n",
    "    \n",
    "with open('refs_dict.dat', 'rb') as f3:\n",
    "    refs_dict = pickle.load(f3)    # refs_dict: key: pmid, value: list of reference pmids for each paper\n",
    "    f3.close()"
   ]
  },
  {
   "cell_type": "code",
   "execution_count": null,
   "metadata": {},
   "outputs": [],
   "source": [
    "import numpy as np\n",
    "from itertools import combinations\n",
    "\n",
    "m_dict = {}\n",
    "ED_rels = {}\n",
    "\n",
    "focal_nodes = list(pmids.keys())\n",
    "pbar = tqdm(focal_nodes)\n",
    "\n",
    "for node in pbar:\n",
    "    cits = cits_dict[node]\n",
    "    refs = refs_dict[node]\n",
    "    \n",
    "    s_rel = mesh_rels_dict[node]\n",
    "    n_s = len(s_rel)\n",
    "    \n",
    "    # ED_s calculation\n",
    "    sj_rel = set()\n",
    "    for ref in refs:\n",
    "        sj_rel.update(mesh_rels_dict[ref])   \n",
    "    si = s_rel - sj_rel\n",
    "    sj_old = s_rel & sj_rel\n",
    "    n_si = len(si)\n",
    "    n_sj = len(sj_old)\n",
    "    ED_s = round((n_si - n_sj) / n_s, 5)\n",
    "\n",
    "    # ED_p calculation\n",
    "    citing_nodes_fp = [fp_cits for fp_cits in cits]\n",
    "    N = 0 \n",
    "    m = 0 \n",
    "    ED_p = 0\n",
    "    for c in citing_nodes_fp:\n",
    "        g_rel = mesh_rels_dict[c]            \n",
    "        n_g = len(g_rel)\n",
    "        if n_g > 0:  \n",
    "            N += 1\n",
    "            n_gi = len((s_rel & g_rel) - sj_rel)\n",
    "            n_gj = len(s_rel & g_rel & sj_rel)\n",
    "            n_gk = len((g_rel & sj_rel) - s_rel)\n",
    "            n_gn = len(g_rel - sj_rel - s_rel)\n",
    "            ED_g = round((n_gi + n_gn - n_gj - n_gk) / n_g, 5)\n",
    "            ED_p += ED_g\n",
    "        if len(s_rel & g_rel) > 0:\n",
    "            m += 1\n",
    "    m_dict[node] = m\n",
    "       \n",
    "    if N == 0:\n",
    "        ED_rel = 0.5 * ED_s + 0.5 * ED_p\n",
    "        ED_rels[node] = ED_rel\n",
    "        continue\n",
    "    \n",
    "    ED_p = round(ED_p / N, 5)\n",
    "    ED_rel = 0.5 * ED_s + 0.5 * ED_p\n",
    "    ED_rels[node] = ED_rel\n"
   ]
  },
  {
   "cell_type": "code",
   "execution_count": null,
   "metadata": {},
   "outputs": [],
   "source": [
    "import pandas as pd\n",
    "\n",
    "df_new = pd.DataFrame.from_dict(ED_rel, orient = 'index')\n",
    "df_new.to_sql('pubmed_ED_noweight', con = engine, if_exists = 'append')"
   ]
  },
  {
   "cell_type": "code",
   "execution_count": null,
   "metadata": {},
   "outputs": [],
   "source": [
    "import numpy as np\n",
    "import pandas as pd\n",
    "\n",
    "sql = 'select * from pubmed_ED_noweight'\n",
    "df_new = pd.read_sql(sql, con = engine)\n",
    "\n",
    "max_m_years = {}\n",
    "min_m_years = {}\n",
    "for y in range(1991,2015,1):\n",
    "    m_y = np.array(df_new[df_new['pub_year'] == y]['m'].values)\n",
    "#     m_y = df_new['m'].values\n",
    "    max_m = np.max(m_y)\n",
    "    min_m = np.min(m_y)\n",
    "    max_m_years[y] = max_m\n",
    "    min_m_years[y] = min_m\n",
    "# max_m_years = max_m\n",
    "# min_m_years = min_m"
   ]
  },
  {
   "cell_type": "code",
   "execution_count": null,
   "metadata": {},
   "outputs": [],
   "source": [
    "mED_dict = {}\n",
    "\n",
    "for i,item in df_new.iterrows():\n",
    "    pmid = item['pmid']\n",
    "    ED_rel = item['ED_rel']\n",
    "    year = item['pub_year']\n",
    "    m = item['m']\n",
    "    try: \n",
    "        m_weight = round((m - min_m_years[year]) / (max_m_years[year] - min_m_years[year]), 4)\n",
    "        mED = round(ED_rel * m_weight, 5)\n",
    "        mED_dict[pmid] = mED\n",
    "    except:\n",
    "        continue"
   ]
  }
 ],
 "metadata": {
  "kernelspec": {
   "display_name": "Python 3",
   "language": "python",
   "name": "python3"
  },
  "language_info": {
   "codemirror_mode": {
    "name": "ipython",
    "version": 3
   },
   "file_extension": ".py",
   "mimetype": "text/x-python",
   "name": "python",
   "nbconvert_exporter": "python",
   "pygments_lexer": "ipython3",
   "version": "3.8.5"
  }
 },
 "nbformat": 4,
 "nbformat_minor": 4
}
