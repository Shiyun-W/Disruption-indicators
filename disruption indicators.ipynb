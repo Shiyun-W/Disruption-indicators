{
 "cells": [
  {
   "cell_type": "markdown",
   "metadata": {},
   "source": [
    "## data preparation"
   ]
  },
  {
   "cell_type": "code",
   "execution_count": null,
   "metadata": {},
   "outputs": [],
   "source": [
    "import json\n",
    "import pickle\n",
    "\n",
    "with open('mesh_dict.dat', 'rb') as f:    \n",
    "    mesh_dict = pickle.load(f)    # mesh_dict: key: pmid, value: list of mesh terms for each paper\n",
    "    f.close()\n",
    "\n",
    "with open('mesh_rels_dict.dat', 'rb') as f2:    \n",
    "    mesh_rels_dict = pickle.load(f2)    # mesh_rels_dict: key: pmid, value: list of combinations of mesh terms for each paper\n",
    "    f2.close()\n",
    "\n",
    "with open('cits_dict.dat', 'rb') as f3:\n",
    "    cits_dict = pickle.load(f3)   # cits_dict: key: pmid, value: list of citing pmids for each paper\n",
    "    f3.close() \n",
    "    \n",
    "with open('refs_dict.dat', 'rb') as f4:\n",
    "    refs_dict = pickle.load(f4)    # refs_dict: key: pmid, value: list of reference pmids for each paper\n",
    "    f4.close()\n",
    "\n",
    "file = open('pmid_pub_years.txt', 'r')   \n",
    "js = file.read()\n",
    "pmid_year_dict = json.loads(js)    # pmid_year_dict: key: pmid, value: pub_year\n",
    "file.close()"
   ]
  },
  {
   "cell_type": "markdown",
   "metadata": {},
   "source": [
    "## mED(rel)"
   ]
  },
  {
   "cell_type": "code",
   "execution_count": null,
   "metadata": {},
   "outputs": [],
   "source": [
    "import numpy as np\n",
    "\n",
    "m_dict = {}\n",
    "ED_rels = {}\n",
    "\n",
    "focal_nodes = list(pmids)    # pmids: the pmids of papers for disruption scores calculation\n",
    "pbar = tqdm(focal_nodes)\n",
    "\n",
    "for node in pbar:\n",
    "    cits = cits_dict[node]\n",
    "    refs = refs_dict[node]\n",
    "    \n",
    "    s_rel = mesh_rels_dict[node]    # the combinations of mesh terms in the focal paper (FP)\n",
    "    n_s = len(s_rel)\n",
    "    \n",
    "    # ED_s calculation\n",
    "    sj_rel = set()    # the distinct combinations of mesh terms in the references of the FP\n",
    "    for ref in refs:\n",
    "        sj_rel.update(mesh_rels_dict[ref])   \n",
    "    si = s_rel - sj_rel    # new mesh relations: the combinations of mesh terms in the FP that are not in the references of the focal paper\n",
    "    sj_old = s_rel & sj_rel    # old mesh relations: the combinations of mesh terms in the FP that are also in the references of the focal paper\n",
    "    n_si = len(si)\n",
    "    n_sj = len(sj_old)\n",
    "    ED_s = round((n_si - n_sj) / n_s, 5)\n",
    "\n",
    "    # ED_p calculation\n",
    "    citing_nodes_fp = [fp_cits for fp_cits in cits]    # the pmids of citing papers of the FP\n",
    "    N = 0 \n",
    "    m = 0 \n",
    "    ED_p = 0\n",
    "    for c in citing_nodes_fp:\n",
    "        g_rel = mesh_rels_dict[c]            \n",
    "        n_g = len(g_rel)\n",
    "        if n_g > 0:  \n",
    "            N += 1\n",
    "            n_gi = len((s_rel & g_rel) - sj_rel)    # knowledge elements derived exclusively from FP\n",
    "            n_gj = len(s_rel & g_rel & sj_rel)      # knowledge elements derived from both the FP and its predecessors\n",
    "            n_gk = len((g_rel & sj_rel) - s_rel)     # knowledge elements only derived from the FP’s predecessors\n",
    "            n_gn = len(g_rel - sj_rel - s_rel)    # knowledge elements that only appear in the citing paper itself\n",
    "            ED_g = round((n_gi + n_gn - n_gj - n_gk) / n_g, 5)\n",
    "            ED_p += ED_g\n",
    "        if len(s_rel & g_rel) > 0:\n",
    "            m += 1\n",
    "    m_dict[node] = m    # the weighting parameter: m\n",
    "       \n",
    "    if N == 0:\n",
    "        ED_rel = 0.5 * ED_s + 0.5 * ED_p\n",
    "        ED_rels[node] = ED_rel\n",
    "        continue\n",
    "    \n",
    "    ED_p = round(ED_p / N, 5)\n",
    "    ED_rel = 0.5 * ED_s + 0.5 * ED_p\n",
    "    ED_rels[node] = ED_rel\n"
   ]
  },
  {
   "cell_type": "code",
   "execution_count": null,
   "metadata": {},
   "outputs": [],
   "source": [
    "import pandas as pd\n",
    "\n",
    "df_ED_rel = pd.DataFrame.from_dict(ED_rel, orient = 'index')\n",
    "df_ED_rel.to_sql('pubmed_ED_rel', con = engine, if_exists = 'append')"
   ]
  },
  {
   "cell_type": "code",
   "execution_count": null,
   "metadata": {},
   "outputs": [],
   "source": [
    "import pandas as pd\n",
    "\n",
    "df_m = pd.DataFrame.from_dict(m_dict, orient = 'index')\n",
    "df_m.to_sql('pubmed_ED_rel_m', con = engine, if_exists = 'append')"
   ]
  },
  {
   "cell_type": "code",
   "execution_count": null,
   "metadata": {},
   "outputs": [],
   "source": [
    "# the calculation of m * ED(rel)\n",
    "\n",
    "import numpy as np\n",
    "import pandas as pd\n",
    "\n",
    "# Here we need to add the \"pub_year\" field and \"m\" field into \"pubmed_ED_rel\" table through mysql first. \n",
    "sql = 'select * from pubmed_ED_rel'    \n",
    "df_new = pd.read_sql(sql, con = engine)\n",
    "\n",
    "max_m_years = {}\n",
    "min_m_years = {}\n",
    "for y in range(1991,2015,1):\n",
    "    m_y = np.array(df_new[df_new['pub_year'] == y]['m'].values)\n",
    "    max_m = np.max(m_y)\n",
    "    min_m = np.min(m_y)\n",
    "    max_m_years[y] = max_m    # the max value of m in year y\n",
    "    min_m_years[y] = min_m    # the min value of m in year y"
   ]
  },
  {
   "cell_type": "code",
   "execution_count": null,
   "metadata": {},
   "outputs": [],
   "source": [
    "mED_dict = {}\n",
    "\n",
    "for i,item in df_new.iterrows():\n",
    "    pmid = item['pmid']\n",
    "    ED_rel = item['ED_rel']\n",
    "    year = item['pub_year']\n",
    "    m = item['m']\n",
    "    try: \n",
    "        m_weight = round((m - min_m_years[year]) / (max_m_years[year] - min_m_years[year]), 5)\n",
    "        mED = round(ED_rel * m_weight, 5)\n",
    "        mED_dict[pmid] = mED\n",
    "    except:\n",
    "        continue"
   ]
  },
  {
   "cell_type": "markdown",
   "metadata": {},
   "source": [
    "## mED(ent)"
   ]
  },
  {
   "cell_type": "code",
   "execution_count": null,
   "metadata": {},
   "outputs": [],
   "source": [
    "import numpy as np\n",
    "\n",
    "m_dict = {}\n",
    "ED_ent_dict = {}\n",
    "\n",
    "focal_nodes = list(pmids)           # the list of pmids of papers for calculation\n",
    "pbar = tqdm(focal_nodes)\n",
    "\n",
    "for node in pbar:\n",
    "    cits = cits_dict[node]\n",
    "    refs = refs_dict[node]\n",
    "    \n",
    "    s_rel = set(mesh_dict[node])    # the mesh terms in the focal paper\n",
    "    n_s = len(s_rel)\n",
    "    \n",
    "    # ED_s calculation\n",
    "    sj_rel = set()    # the mesh terms in the references of the focal paper\n",
    "    for ref in refs:\n",
    "        sj_rel.update(set(mesh_dict[ref]))\n",
    "    si = s_rel - sj_rel\n",
    "    sj_old = s_rel & sj_rel\n",
    "    n_si = len(si)\n",
    "    n_sj = len(sj_old)\n",
    "    ED_s = round((n_si - n_sj) / n_s, 5)\n",
    "    ED_s_dict[node] = ED_s\n",
    "    \n",
    "    # ED_p calculation\n",
    "    citing_nodes_fp = [fp_cits for fp_cits in cits]\n",
    "    N = 0  \n",
    "    m = 0  \n",
    "    ED_p = 0\n",
    "    for c in citing_nodes_fp:\n",
    "        g_rel = set(mesh_dict[c])            \n",
    "        n_g = len(g_rel)\n",
    "        if n_g > 0:  \n",
    "            N += 1\n",
    "            n_gi = len((s_rel & g_rel) - sj_rel)\n",
    "            n_gj = len(s_rel & g_rel & sj_rel)\n",
    "            n_gk = len((g_rel & sj_rel) - s_rel)\n",
    "            n_gn = len(g_rel - sj_rel - s_rel)\n",
    "            ED_g = round((n_gi + n_gn - n_gj - n_gk) / n_g, 5)\n",
    "            ED_p += ED_g\n",
    "        if len(s_rel & g_rel) > 0:\n",
    "            m += 1\n",
    "    m_dict[node] = m\n",
    "       \n",
    "    if N == 0:\n",
    "        ED_ent = 0.5 * M_s + 0.5 * M_p\n",
    "        ED_ent_dict[node] = ED_ent\n",
    "        continue\n",
    "        \n",
    "    ED_p = round(ED_p / N, 5)\n",
    "    ED_ent = 0.5 * ED_s + 0.5 * ED_p\n",
    "    ED_ent_dict[node] = ED_ent"
   ]
  },
  {
   "cell_type": "code",
   "execution_count": null,
   "metadata": {},
   "outputs": [],
   "source": [
    "import pandas as pd\n",
    "\n",
    "df_ED_ent = pd.DataFrame.from_dict(ED_ent_dict, orient = 'index')\n",
    "df_ED_ent.to_sql('pubmed_ED_ent', con = engine, if_exists = 'append')"
   ]
  },
  {
   "cell_type": "code",
   "execution_count": null,
   "metadata": {},
   "outputs": [],
   "source": [
    "import pandas as pd\n",
    "\n",
    "df_m = pd.DataFrame.from_dict(m_dict, orient = 'index')\n",
    "df_m.to_sql('pubmed_ED_ent_m', con = engine, if_exists = 'append')"
   ]
  },
  {
   "cell_type": "code",
   "execution_count": null,
   "metadata": {},
   "outputs": [],
   "source": [
    "# the calculation of m * ED_ent\n",
    "import numpy as np\n",
    "import pandas as pd\n",
    "\n",
    "# Here we need to add the \"pub_year\" field and \"m\" field into \"pubmed_ED_ent\" table through mysql first. \n",
    "sql = 'select * from pubmed_ED_ent'\n",
    "df_new = pd.read_sql(sql, con = engine)\n",
    "\n",
    "max_m_years = {}\n",
    "min_m_years = {}\n",
    "for y in range(1991,2015,1):\n",
    "    m_y = np.array(df_new[df_new['pub_year'] == y]['m'].values)\n",
    "    max_m = np.max(m_y)\n",
    "    min_m = np.min(m_y)\n",
    "    max_m_years[y] = max_m\n",
    "    min_m_years[y] = min_m"
   ]
  },
  {
   "cell_type": "code",
   "execution_count": null,
   "metadata": {},
   "outputs": [],
   "source": [
    "mED_ent_dict = {}\n",
    "\n",
    "for i,item in df_new.iterrows():\n",
    "    pmid = item['pmid']\n",
    "    ED_ent = item['ED_ent']\n",
    "    year = item['pub_year']\n",
    "    m = item['m']\n",
    "    try: \n",
    "        m_weight = round((m - min_m_years[year]) / (max_m_years[year] - min_m_years[year]), 5)\n",
    "        mED_ent = round(ED_ent * m_weight, 5)\n",
    "        mED_ent_dict[pmid] = mED_ent\n",
    "    except:\n",
    "        continue"
   ]
  },
  {
   "cell_type": "markdown",
   "metadata": {},
   "source": [
    "## DI5"
   ]
  },
  {
   "cell_type": "code",
   "execution_count": null,
   "metadata": {},
   "outputs": [],
   "source": [
    "# fp: focus paper\n",
    "# sp: source paper\n",
    "\n",
    "DI5_nodes = {}\n",
    "\n",
    "focal_nodes = list(pmids)    # the list of pmids of papers for calculation\n",
    "pbar = tqdm(focal_nodes)\n",
    "\n",
    "for node in pbar:\n",
    "    pub_year = pmid_year_dict[str(node)]\n",
    "    \n",
    "    citing_nodes_fp = cits_dict[node]\n",
    "    refs = refs_dict[node]\n",
    "\n",
    "    citing_nodes_sp = []\n",
    "    for s in refs:\n",
    "        citing_nodes_sp.extend(cits_dict[s])\n",
    "    citing_nodes_sp2 = [s2 for s2 in citing_nodes_sp if pmid_year_dict[str(s2)] >= pub_year and s2 != node]\n",
    "    \n",
    "    n_i = len(set(citing_nodes_fp) - set(citing_nodes_sp2))    # the number of papers that cite FP without citing FP's references\n",
    "    nodes_j = set(citing_nodes_fp) & set(citing_nodes_sp2)    # the number of papers that cite both the FP and at least one of its cited references\n",
    "    n_j_1 = len(nodes_j)\n",
    "    n_j = 0    \n",
    "    for j in nodes_j:\n",
    "        refs_j = refs_dict[j]\n",
    "        l = len(list(set(refs) & set(refs_j)))    \n",
    "        if l >= 5:\n",
    "            n_j += 1    #  n_j measures the number of citing papers that cite both FP and at least five of FP's cited references.\n",
    "    n_all = len(set(citing_nodes_fp) | set(citing_nodes_sp2))\n",
    "    l_distance = n_j_1 - n_j  \n",
    "    \n",
    "    try:\n",
    "        DI5 = round((n_i - n_j) / (n_all - l_distance), 5)    # n_all - l_distance equals to n_i + n_j + n_k, n_k is the number of papers that cited at least one of the FP's references without citing the FP itself\n",
    "    except:\n",
    "        continue\n",
    "\n",
    "    DI5_nodes[node] = DI5\n",
    "\n",
    "pbar.close()"
   ]
  },
  {
   "cell_type": "markdown",
   "metadata": {},
   "source": [
    "## DI1"
   ]
  },
  {
   "cell_type": "code",
   "execution_count": null,
   "metadata": {},
   "outputs": [],
   "source": [
    "import pandas as pd\n",
    "\n",
    "DI1_nodes = {}\n",
    "\n",
    "focal_nodes = list(pmids)    # the list of pmids of papers for calculation\n",
    "pbar = tqdm(focal_nodes)\n",
    "\n",
    "for node in pbar:\n",
    "    citing_nodes_fp = cits_dict[node]\n",
    "    cited_nodes = refs_dict[node]\n",
    "    pub_year = pmid_year_dict[str(node)]\n",
    "    \n",
    "    citing_nodes_sp = []\n",
    "    for s in cited_nodes:\n",
    "        citing_nodes_sp.extend(cits_dict[s])\n",
    "    citing_nodes_sp_filter = [s2 for s2 in citing_nodes_sp if pmid_year_dict[str(s2)] >= pub_year and s2 != node]\n",
    "    \n",
    "    n_i = len(set(citing_nodes_fp) - set(citing_nodes_sp_filter))\n",
    "    n_j = len(set(citing_nodes_fp) & set(citing_nodes_sp_filter))\n",
    "    n_all = len(set(citing_nodes_fp) | set(citing_nodes_sp_filter))\n",
    "    DI1 = round((n_i - n_j) / n_all, 5)\n",
    "    DI1_nodes[node] = DI1\n",
    "\n",
    "pbar.close()"
   ]
  },
  {
   "cell_type": "code",
   "execution_count": null,
   "metadata": {},
   "outputs": [],
   "source": [
    "import pandas as pd\n",
    "\n",
    "df = pd.DataFrame.from_dict(DI1_nodes, orient = 'index')\n",
    "df.to_sql('pubmed_di1', con = engine)"
   ]
  },
  {
   "cell_type": "markdown",
   "metadata": {},
   "source": [
    "## mCD"
   ]
  },
  {
   "cell_type": "code",
   "execution_count": null,
   "metadata": {},
   "outputs": [],
   "source": [
    "import pandas as pd\n",
    "sql = 'select * from pubmed_di1'\n",
    "df_di1 = pd.read_sql(sql, con = engine)"
   ]
  },
  {
   "cell_type": "code",
   "execution_count": null,
   "metadata": {},
   "outputs": [],
   "source": [
    "import pymongo\n",
    "import pandas as pd\n",
    "from sqlalchemy import create_engine\n",
    "import numpy as np\n",
    "import datetime\n",
    "import time\n",
    "from tqdm import tqdm\n",
    "\n",
    "myclient = pymongo.MongoClient('mongodb://192.168.24.233:27017')   # Mongodb Server\n",
    "mydb = myclient['PubMed']\n",
    "mycol = mydb['document']\n",
    "\n",
    "mCD = {}\n",
    "\n",
    "for i,item in df_di1.iterrows():\n",
    "    pmid = item['pmid']\n",
    "    di1 = item['DI1']\n",
    "    item_find = list(mycol.find({'pmid': pmid}, {'_id': 0, 'pmid': 1, 'cits': 1}))[0]\n",
    "    cits = item_find['cits']\n",
    "    mCD[pmid] = round(di1 * len(cits), 5)"
   ]
  }
 ],
 "metadata": {
  "kernelspec": {
   "display_name": "Python 3",
   "language": "python",
   "name": "python3"
  },
  "language_info": {
   "codemirror_mode": {
    "name": "ipython",
    "version": 3
   },
   "file_extension": ".py",
   "mimetype": "text/x-python",
   "name": "python",
   "nbconvert_exporter": "python",
   "pygments_lexer": "ipython3",
   "version": "3.8.5"
  }
 },
 "nbformat": 4,
 "nbformat_minor": 4
}
